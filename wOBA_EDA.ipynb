{
  "nbformat": 4,
  "nbformat_minor": 0,
  "metadata": {
    "colab": {
      "provenance": []
    },
    "kernelspec": {
      "name": "python3",
      "display_name": "Python 3"
    },
    "language_info": {
      "name": "python"
    }
  },
  "cells": [
    {
      "cell_type": "markdown",
      "source": [
        "Install Dependencies"
      ],
      "metadata": {
        "id": "bb9J_zd-Siph"
      }
    },
    {
      "cell_type": "code",
      "execution_count": null,
      "metadata": {
        "id": "XgW_SgFESUSc"
      },
      "outputs": [],
      "source": [
        "!pip install pybaseball pandas numpy"
      ]
    },
    {
      "cell_type": "markdown",
      "source": [
        "Import Libraries"
      ],
      "metadata": {
        "id": "JDiCKWNWSuzn"
      }
    },
    {
      "cell_type": "code",
      "source": [
        "import pandas as pd\n",
        "import matplotlib.pyplot as plt\n",
        "import seaborn as sns\n",
        "from pybaseball import batting_stats"
      ],
      "metadata": {
        "id": "TKhiT7OVSxlS"
      },
      "execution_count": null,
      "outputs": []
    },
    {
      "cell_type": "markdown",
      "source": [
        "Load Data / Select Features"
      ],
      "metadata": {
        "id": "qaLfgT4qS02C"
      }
    },
    {
      "cell_type": "code",
      "source": [
        "# Load Batting Data (2015-2023) and include all features\n",
        "years = list(range(2015, 2024))\n",
        "batting_data = pd.concat([batting_stats(y) for y in years], ignore_index=True)\n",
        "\n",
        "# Rename only necessary columns\n",
        "batting_data.rename(columns={\n",
        "    \"IDfg\": \"player_id\",\n",
        "    \"Season\": \"year\",\n",
        "    \"HardHit%\": \"hard_hit_rate\",\n",
        "    \"Barrel%\": \"barrel_rate\",\n",
        "    \"HR/FB\": \"hr_fb_rate\",\n",
        "    \"LD%\": \"line_drive_rate\",\n",
        "    \"BB%\": \"bb_rate\",\n",
        "    \"K%\": \"k_rate\"\n",
        "}, inplace=True)\n",
        "\n",
        "# Ensure correct data types\n",
        "batting_data[\"year\"] = batting_data[\"year\"].astype(int)\n",
        "\n",
        "# Display basic dataset info\n",
        "print(\"✅ Dataset Loaded with All Features\")\n",
        "print(\"Dataset Info:\")\n",
        "batting_data.info()\n",
        "\n",
        "# Display all columns to verify\n",
        "print(\"\\n📌 Available Columns in Dataset:\")\n",
        "print(batting_data.columns.tolist())\n"
      ],
      "metadata": {
        "id": "Jmgk8bOQS2lx"
      },
      "execution_count": null,
      "outputs": []
    },
    {
      "cell_type": "markdown",
      "source": [
        "Describe"
      ],
      "metadata": {
        "id": "-90OBOqCTTyo"
      }
    },
    {
      "cell_type": "code",
      "source": [
        "# Display summary statistics\n",
        "print(\"\\nSummary Statistics:\")\n",
        "print(batting_data.describe())"
      ],
      "metadata": {
        "id": "ItC37FGcTU0Y"
      },
      "execution_count": null,
      "outputs": []
    },
    {
      "cell_type": "markdown",
      "source": [
        "Create a Feature for Future wOBA"
      ],
      "metadata": {
        "id": "lpVzorbXVASz"
      }
    },
    {
      "cell_type": "code",
      "source": [
        "# Shift wOBA forward by one year to predict next season's performance\n",
        "batting_data[\"next_year_woba\"] = batting_data.groupby(\"player_id\")[\"wOBA\"].shift(-1)\n",
        "\n",
        "# Drop rows where next year's wOBA is NaN (last recorded season for a player)\n",
        "batting_data = batting_data.dropna(subset=[\"next_year_woba\"])\n",
        "\n",
        "print(\"✅ Shifted wOBA to predict next season's performance.\")\n"
      ],
      "metadata": {
        "id": "SthYZ5cuVDgn"
      },
      "execution_count": null,
      "outputs": []
    },
    {
      "cell_type": "markdown",
      "source": [
        "Search for Missing Values"
      ],
      "metadata": {
        "id": "rlon2Lh3TVhs"
      }
    },
    {
      "cell_type": "code",
      "source": [
        "# Check missing values\n",
        "missing_values = batting_data.isnull().sum()\n",
        "print(\"\\nMissing Values:\")\n",
        "print(missing_values[missing_values > 0])"
      ],
      "metadata": {
        "id": "crfY4UucTXQb"
      },
      "execution_count": null,
      "outputs": []
    },
    {
      "cell_type": "markdown",
      "source": [
        "Plotm feature distributions"
      ],
      "metadata": {
        "id": "OyLybVKwTggn"
      }
    },
    {
      "cell_type": "code",
      "source": [
        "# Plot feature distributions\n",
        "batting_data.hist(figsize=(12, 10), bins=30)\n",
        "plt.suptitle(\"Feature Distributions\", fontsize=16)\n",
        "plt.show()"
      ],
      "metadata": {
        "id": "0ugxSDWNTi89"
      },
      "execution_count": null,
      "outputs": []
    },
    {
      "cell_type": "markdown",
      "source": [
        "Compute Correlation Matrix"
      ],
      "metadata": {
        "id": "FVcfRpTnTjda"
      }
    },
    {
      "cell_type": "code",
      "source": [
        "numeric_data = batting_data.select_dtypes(include=['number'])\n",
        "\n",
        "# Compute correlation matrix\n",
        "correlation_matrix = numeric_data.corr()\n",
        "\n",
        "# Plot heatmap (This will be very large!)\n",
        "plt.figure(figsize=(20, 16))  # Increase figure size\n",
        "sns.heatmap(correlation_matrix, cmap=\"coolwarm\", fmt=\".2f\", linewidths=0.5)\n",
        "\n",
        "plt.title(\"Full Feature Correlation Matrix\")\n",
        "plt.show()"
      ],
      "metadata": {
        "id": "2g2AnWEOTnw6"
      },
      "execution_count": null,
      "outputs": []
    },
    {
      "cell_type": "code",
      "source": [
        "# Plot heatmap of feature correlations\n",
        "plt.figure(figsize=(10, 8))\n",
        "sns.heatmap(correlation_matrix, annot=True, cmap=\"coolwarm\", fmt=\".2f\")\n",
        "plt.title(\"Feature Correlation Heatmap\")\n",
        "plt.show()"
      ],
      "metadata": {
        "id": "eG8l5AiITrn6"
      },
      "execution_count": null,
      "outputs": []
    },
    {
      "cell_type": "code",
      "source": [
        "# Get the absolute correlation values and sort\n",
        "corr_wOBA = correlation_matrix[\"next_year_woba\"].abs().sort_values(ascending=False)\n",
        "\n",
        "# Show the top 20 features most correlated with wOBA\n",
        "print(\"🔍 Top 20 Features Most Correlated with wOBA:\")\n",
        "print(corr_wOBA.head(20))\n"
      ],
      "metadata": {
        "id": "UrRW1BZYY4N_"
      },
      "execution_count": null,
      "outputs": []
    },
    {
      "cell_type": "markdown",
      "source": [
        "Box Plot for Outlier Detection"
      ],
      "metadata": {
        "id": "5IyOCJj3TxCl"
      }
    },
    {
      "cell_type": "code",
      "source": [
        "# Boxplots for outlier detection\n",
        "features_to_check = [\"ISO\", \"OBP\", \"SLG\", \"hr_fb_rate\", \"line_drive_rate\", \"wOBA\"]\n",
        "\n",
        "plt.figure(figsize=(12, 6))\n",
        "for i, feature in enumerate(features_to_check, 1):\n",
        "    plt.subplot(2, 3, i)\n",
        "    sns.boxplot(y=batting_data[feature])\n",
        "    plt.title(feature)\n",
        "\n",
        "plt.tight_layout()\n",
        "plt.show()\n",
        "\n",
        "print(\"✅ EDA Complete: Review Plots & Summary Stats for Insights\")"
      ],
      "metadata": {
        "id": "c_XR1a73TzrG"
      },
      "execution_count": null,
      "outputs": []
    },
    {
      "cell_type": "code",
      "source": [],
      "metadata": {
        "id": "1MSHRHgOXPtb"
      },
      "execution_count": null,
      "outputs": []
    }
  ]
}